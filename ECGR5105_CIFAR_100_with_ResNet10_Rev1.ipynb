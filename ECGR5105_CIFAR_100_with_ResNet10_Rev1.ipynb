{
  "cells": [
    {
      "cell_type": "markdown",
      "metadata": {
        "id": "view-in-github",
        "colab_type": "text"
      },
      "source": [
        "<a href=\"https://colab.research.google.com/github/hurricane195/Intro-to-Machine-Learning/blob/Final-Project/ECGR5105_CIFAR_100_with_ResNet10_Rev1.ipynb\" target=\"_parent\"><img src=\"https://colab.research.google.com/assets/colab-badge.svg\" alt=\"Open In Colab\"/></a>"
      ]
    },
    {
      "cell_type": "code",
      "source": [
        "#Using modified CIFAR-10 eutions to generalize'.\n",
        "#Using modified CIFAR-10 example from 'Deep-Learning-with_PyTorch' in Chaptexample from 'Deep-Learning-with_PyTorch' in Chapter 8 'Using Convolr 7 'Telling Birds from airplanes: Learning from images'.\n",
        "#Using modified version of \"CIFAR-100 Resnet PyTorch 75.17% Accuracy\" at https://www.kaggle.com/code/yiweiwangau/cifar-100-resnet-pytorch-75-17-accuracy\n"
      ],
      "metadata": {
        "id": "C3h_BvMs52zK"
      },
      "id": "C3h_BvMs52zK",
      "execution_count": null,
      "outputs": []
    },
    {
      "cell_type": "code",
      "execution_count": null,
      "id": "b70b27d4",
      "metadata": {
        "execution": {
          "iopub.execute_input": "2021-11-08T05:36:50.768174Z",
          "iopub.status.busy": "2021-11-08T05:36:50.766635Z",
          "iopub.status.idle": "2021-11-08T05:36:53.170678Z",
          "shell.execute_reply": "2021-11-08T05:36:53.170103Z",
          "shell.execute_reply.started": "2021-11-07T06:37:34.942075Z"
        },
        "papermill": {
          "duration": 2.429127,
          "end_time": "2021-11-08T05:36:53.170837",
          "exception": false,
          "start_time": "2021-11-08T05:36:50.741710",
          "status": "completed"
        },
        "tags": [],
        "id": "b70b27d4"
      },
      "outputs": [],
      "source": [
        "import pandas as pd\n",
        "import os\n",
        "import torch\n",
        "import time\n",
        "import torchvision\n",
        "import torch.nn as nn\n",
        "import numpy as np\n",
        "import torch.nn.functional as F\n",
        "from torchvision.datasets.utils import download_url\n",
        "from torchvision.datasets import ImageFolder\n",
        "from torch.utils.data import DataLoader\n",
        "import torchvision.transforms as tt\n",
        "from torch.utils.data import random_split\n",
        "from torchvision.utils import make_grid\n",
        "import torchvision.models as models\n",
        "import matplotlib.pyplot as plt\n",
        "from sklearn.metrics import *\n",
        "\n",
        "%matplotlib inline"
      ]
    },
    {
      "cell_type": "code",
      "source": [
        "device = torch.device('cuda' if torch.cuda.is_available() else 'cpu')\n",
        "device"
      ],
      "metadata": {
        "colab": {
          "base_uri": "https://localhost:8080/"
        },
        "id": "pQML_nuBaaFy",
        "outputId": "a9dfdd2f-0556-4b59-81cd-42f7830fe015"
      },
      "id": "pQML_nuBaaFy",
      "execution_count": null,
      "outputs": [
        {
          "output_type": "execute_result",
          "data": {
            "text/plain": [
              "device(type='cpu')"
            ]
          },
          "metadata": {},
          "execution_count": 15
        }
      ]
    },
    {
      "cell_type": "code",
      "execution_count": null,
      "id": "dd66f3ae",
      "metadata": {
        "execution": {
          "iopub.execute_input": "2021-11-08T05:36:53.214595Z",
          "iopub.status.busy": "2021-11-08T05:36:53.213777Z",
          "iopub.status.idle": "2021-11-08T05:36:53.216201Z",
          "shell.execute_reply": "2021-11-08T05:36:53.215771Z",
          "shell.execute_reply.started": "2021-11-07T06:37:34.965919Z"
        },
        "papermill": {
          "duration": 0.024689,
          "end_time": "2021-11-08T05:36:53.216321",
          "exception": false,
          "start_time": "2021-11-08T05:36:53.191632",
          "status": "completed"
        },
        "tags": [],
        "id": "dd66f3ae"
      },
      "outputs": [],
      "source": [
        "batch_size = 200\n",
        "epochs = 100\n",
        "max_lr = 0.001\n",
        "grad_clip = 0.01\n",
        "weight_decay =0.001\n",
        "opt_func = torch.optim.Adam"
      ]
    },
    {
      "cell_type": "code",
      "execution_count": null,
      "id": "96b04be8",
      "metadata": {
        "execution": {
          "iopub.execute_input": "2021-11-08T05:36:53.263498Z",
          "iopub.status.busy": "2021-11-08T05:36:53.262730Z",
          "iopub.status.idle": "2021-11-08T05:37:10.205589Z",
          "shell.execute_reply": "2021-11-08T05:37:10.205100Z",
          "shell.execute_reply.started": "2021-11-07T06:37:34.974096Z"
        },
        "papermill": {
          "duration": 16.970797,
          "end_time": "2021-11-08T05:37:10.205725",
          "exception": false,
          "start_time": "2021-11-08T05:36:53.234928",
          "status": "completed"
        },
        "tags": [],
        "colab": {
          "base_uri": "https://localhost:8080/"
        },
        "id": "96b04be8",
        "outputId": "2fe87cdb-fca8-47de-dd13-a6d8b2d15b8a"
      },
      "outputs": [
        {
          "output_type": "stream",
          "name": "stdout",
          "text": [
            "Files already downloaded and verified\n"
          ]
        }
      ],
      "source": [
        "train_data = torchvision.datasets.CIFAR100('./', train=True, download=True)\n",
        "\n",
        "# Stick all the images together to form a 1600000 X 32 X 3 array\n",
        "x = np.concatenate([np.asarray(train_data[i][0]) for i in range(len(train_data))])\n",
        "\n",
        "# calculate the mean and std along the (0, 1) axes\n",
        "mean = np.mean(x, axis=(0, 1))/255\n",
        "std = np.std(x, axis=(0, 1))/255\n",
        "# the the mean and std\n",
        "mean=mean.tolist()\n",
        "std=std.tolist()\n"
      ]
    },
    {
      "cell_type": "code",
      "execution_count": null,
      "id": "a02d3f5b",
      "metadata": {
        "execution": {
          "iopub.execute_input": "2021-11-08T05:37:10.250932Z",
          "iopub.status.busy": "2021-11-08T05:37:10.250103Z",
          "iopub.status.idle": "2021-11-08T05:37:10.252499Z",
          "shell.execute_reply": "2021-11-08T05:37:10.252062Z",
          "shell.execute_reply.started": "2021-11-07T06:37:56.940324Z"
        },
        "papermill": {
          "duration": 0.026811,
          "end_time": "2021-11-08T05:37:10.252601",
          "exception": false,
          "start_time": "2021-11-08T05:37:10.225790",
          "status": "completed"
        },
        "tags": [],
        "id": "a02d3f5b"
      },
      "outputs": [],
      "source": [
        "transform_train = tt.Compose([tt.RandomCrop(32, padding=4,padding_mode='reflect'),\n",
        "                         tt.RandomHorizontalFlip(),\n",
        "                         tt.ToTensor(),\n",
        "                         tt.Normalize(mean,std,inplace=True)])\n",
        "transform_test = tt.Compose([tt.ToTensor(), tt.Normalize(mean,std)])"
      ]
    },
    {
      "cell_type": "code",
      "execution_count": null,
      "id": "948820cc",
      "metadata": {
        "execution": {
          "iopub.execute_input": "2021-11-08T05:37:10.297232Z",
          "iopub.status.busy": "2021-11-08T05:37:10.296495Z",
          "iopub.status.idle": "2021-11-08T05:37:12.049204Z",
          "shell.execute_reply": "2021-11-08T05:37:12.048252Z",
          "shell.execute_reply.started": "2021-11-07T06:37:56.947735Z"
        },
        "papermill": {
          "duration": 1.777651,
          "end_time": "2021-11-08T05:37:12.049366",
          "exception": false,
          "start_time": "2021-11-08T05:37:10.271715",
          "status": "completed"
        },
        "tags": [],
        "colab": {
          "base_uri": "https://localhost:8080/"
        },
        "id": "948820cc",
        "outputId": "900dc752-2432-4ef0-9b9a-5d3e6797c75e"
      },
      "outputs": [
        {
          "output_type": "stream",
          "name": "stdout",
          "text": [
            "Files already downloaded and verified\n",
            "Files already downloaded and verified\n"
          ]
        }
      ],
      "source": [
        "trainset = torchvision.datasets.CIFAR100(\"./\",\n",
        "                                         train=True,\n",
        "                                         download=True,\n",
        "                                         transform=transform_train)\n",
        "trainloader = torch.utils.data.DataLoader(\n",
        "    trainset, batch_size, shuffle=True, num_workers=2,pin_memory=True)\n",
        "\n",
        "testset = torchvision.datasets.CIFAR100(\"./\",\n",
        "                                        train=False,\n",
        "                                        download=True,\n",
        "                                        transform=transform_test)\n",
        "testloader = torch.utils.data.DataLoader(\n",
        "    testset, batch_size*2,pin_memory=True, num_workers=2)"
      ]
    },
    {
      "cell_type": "code",
      "execution_count": null,
      "id": "87adf4a4",
      "metadata": {
        "execution": {
          "iopub.execute_input": "2021-11-08T05:37:12.138260Z",
          "iopub.status.busy": "2021-11-08T05:37:12.137518Z",
          "iopub.status.idle": "2021-11-08T05:37:12.140657Z",
          "shell.execute_reply": "2021-11-08T05:37:12.141058Z",
          "shell.execute_reply.started": "2021-11-07T06:37:58.691925Z"
        },
        "papermill": {
          "duration": 0.031144,
          "end_time": "2021-11-08T05:37:12.141197",
          "exception": false,
          "start_time": "2021-11-08T05:37:12.110053",
          "status": "completed"
        },
        "tags": [],
        "id": "87adf4a4"
      },
      "outputs": [],
      "source": [
        "def get_default_device():\n",
        "    \"\"\"Pick GPU if available, else CPU\"\"\"\n",
        "    if torch.cuda.is_available():\n",
        "        return torch.device('cuda')\n",
        "    else:\n",
        "        return torch.device('cpu')\n",
        "\n",
        "def to_device(data, device):\n",
        "    \"\"\"Move tensor(s) to chosen device\"\"\"\n",
        "    if isinstance(data, (list,tuple)):\n",
        "        return [to_device(x, device) for x in data]\n",
        "    return data.to(device, non_blocking=True)\n",
        "\n",
        "class DeviceDataLoader():\n",
        "    \"\"\"Wrap a dataloader to move data to a device\"\"\"\n",
        "    def __init__(self, dl, device):\n",
        "        self.dl = dl\n",
        "        self.device = device\n",
        "\n",
        "    def __iter__(self):\n",
        "        \"\"\"Yield a batch of data after moving it to device\"\"\"\n",
        "        for b in self.dl:\n",
        "            yield to_device(b, self.device)\n",
        "\n",
        "    def __len__(self):\n",
        "        \"\"\"Number of batches\"\"\"\n",
        "        return len(self.dl)"
      ]
    },
    {
      "cell_type": "code",
      "execution_count": null,
      "id": "8cc1875f",
      "metadata": {
        "execution": {
          "iopub.execute_input": "2021-11-08T05:37:12.274377Z",
          "iopub.status.busy": "2021-11-08T05:37:12.273671Z",
          "iopub.status.idle": "2021-11-08T05:37:12.275893Z",
          "shell.execute_reply": "2021-11-08T05:37:12.276299Z",
          "shell.execute_reply.started": "2021-11-07T06:37:58.761800Z"
        },
        "papermill": {
          "duration": 0.026774,
          "end_time": "2021-11-08T05:37:12.276420",
          "exception": false,
          "start_time": "2021-11-08T05:37:12.249646",
          "status": "completed"
        },
        "tags": [],
        "id": "8cc1875f"
      },
      "outputs": [],
      "source": [
        "trainloader = DeviceDataLoader(trainloader, device)\n",
        "testloader = DeviceDataLoader(testloader, device)"
      ]
    },
    {
      "cell_type": "markdown",
      "id": "98679c22",
      "metadata": {
        "papermill": {
          "duration": 0.020164,
          "end_time": "2021-11-08T05:37:12.316755",
          "exception": false,
          "start_time": "2021-11-08T05:37:12.296591",
          "status": "completed"
        },
        "tags": [],
        "id": "98679c22"
      },
      "source": [
        "#Defining Model\n"
      ]
    },
    {
      "cell_type": "code",
      "execution_count": null,
      "id": "903be74a",
      "metadata": {
        "execution": {
          "iopub.execute_input": "2021-11-08T05:37:12.375902Z",
          "iopub.status.busy": "2021-11-08T05:37:12.375309Z",
          "iopub.status.idle": "2021-11-08T05:37:15.437581Z",
          "shell.execute_reply": "2021-11-08T05:37:15.437094Z",
          "shell.execute_reply.started": "2021-11-07T06:37:58.773765Z"
        },
        "papermill": {
          "duration": 3.100605,
          "end_time": "2021-11-08T05:37:15.437730",
          "exception": false,
          "start_time": "2021-11-08T05:37:12.337125",
          "status": "completed"
        },
        "tags": [],
        "colab": {
          "base_uri": "https://localhost:8080/"
        },
        "id": "903be74a",
        "outputId": "93b8cae8-7717-4c5d-8d44-7b5f188a239f"
      },
      "outputs": [
        {
          "output_type": "execute_result",
          "data": {
            "text/plain": [
              "ResNet10(\n",
              "  (conv1): Sequential(\n",
              "    (0): Conv2d(3, 64, kernel_size=(3, 3), stride=(1, 1), padding=(1, 1))\n",
              "    (1): BatchNorm2d(64, eps=1e-05, momentum=0.1, affine=True, track_running_stats=True)\n",
              "    (2): ReLU(inplace=True)\n",
              "  )\n",
              "  (conv2): Sequential(\n",
              "    (0): Conv2d(64, 128, kernel_size=(3, 3), stride=(1, 1), padding=(1, 1))\n",
              "    (1): BatchNorm2d(128, eps=1e-05, momentum=0.1, affine=True, track_running_stats=True)\n",
              "    (2): ReLU(inplace=True)\n",
              "    (3): MaxPool2d(kernel_size=2, stride=2, padding=0, dilation=1, ceil_mode=False)\n",
              "  )\n",
              "  (res1): Sequential(\n",
              "    (0): Sequential(\n",
              "      (0): Conv2d(128, 128, kernel_size=(3, 3), stride=(1, 1), padding=(1, 1))\n",
              "      (1): BatchNorm2d(128, eps=1e-05, momentum=0.1, affine=True, track_running_stats=True)\n",
              "      (2): ReLU(inplace=True)\n",
              "    )\n",
              "    (1): Sequential(\n",
              "      (0): Conv2d(128, 128, kernel_size=(3, 3), stride=(1, 1), padding=(1, 1))\n",
              "      (1): BatchNorm2d(128, eps=1e-05, momentum=0.1, affine=True, track_running_stats=True)\n",
              "      (2): ReLU(inplace=True)\n",
              "    )\n",
              "  )\n",
              "  (conv3): Sequential(\n",
              "    (0): Conv2d(128, 256, kernel_size=(3, 3), stride=(1, 1), padding=(1, 1))\n",
              "    (1): BatchNorm2d(256, eps=1e-05, momentum=0.1, affine=True, track_running_stats=True)\n",
              "    (2): ReLU(inplace=True)\n",
              "    (3): MaxPool2d(kernel_size=2, stride=2, padding=0, dilation=1, ceil_mode=False)\n",
              "  )\n",
              "  (conv4): Sequential(\n",
              "    (0): Conv2d(256, 512, kernel_size=(3, 3), stride=(1, 1), padding=(1, 1))\n",
              "    (1): BatchNorm2d(512, eps=1e-05, momentum=0.1, affine=True, track_running_stats=True)\n",
              "    (2): ReLU(inplace=True)\n",
              "    (3): MaxPool2d(kernel_size=2, stride=2, padding=0, dilation=1, ceil_mode=False)\n",
              "  )\n",
              "  (res2): Sequential(\n",
              "    (0): Sequential(\n",
              "      (0): Conv2d(512, 512, kernel_size=(3, 3), stride=(1, 1), padding=(1, 1))\n",
              "      (1): BatchNorm2d(512, eps=1e-05, momentum=0.1, affine=True, track_running_stats=True)\n",
              "      (2): ReLU(inplace=True)\n",
              "    )\n",
              "    (1): Sequential(\n",
              "      (0): Conv2d(512, 512, kernel_size=(3, 3), stride=(1, 1), padding=(1, 1))\n",
              "      (1): BatchNorm2d(512, eps=1e-05, momentum=0.1, affine=True, track_running_stats=True)\n",
              "      (2): ReLU(inplace=True)\n",
              "    )\n",
              "  )\n",
              "  (conv5): Sequential(\n",
              "    (0): Conv2d(512, 1028, kernel_size=(3, 3), stride=(1, 1), padding=(1, 1))\n",
              "    (1): BatchNorm2d(1028, eps=1e-05, momentum=0.1, affine=True, track_running_stats=True)\n",
              "    (2): ReLU(inplace=True)\n",
              "    (3): MaxPool2d(kernel_size=2, stride=2, padding=0, dilation=1, ceil_mode=False)\n",
              "  )\n",
              "  (res3): Sequential(\n",
              "    (0): Sequential(\n",
              "      (0): Conv2d(1028, 1028, kernel_size=(3, 3), stride=(1, 1), padding=(1, 1))\n",
              "      (1): BatchNorm2d(1028, eps=1e-05, momentum=0.1, affine=True, track_running_stats=True)\n",
              "      (2): ReLU(inplace=True)\n",
              "    )\n",
              "    (1): Sequential(\n",
              "      (0): Conv2d(1028, 1028, kernel_size=(3, 3), stride=(1, 1), padding=(1, 1))\n",
              "      (1): BatchNorm2d(1028, eps=1e-05, momentum=0.1, affine=True, track_running_stats=True)\n",
              "      (2): ReLU(inplace=True)\n",
              "    )\n",
              "  )\n",
              "  (classifier): Sequential(\n",
              "    (0): MaxPool2d(kernel_size=2, stride=2, padding=0, dilation=1, ceil_mode=False)\n",
              "    (1): Flatten(start_dim=1, end_dim=-1)\n",
              "    (2): Linear(in_features=1028, out_features=100, bias=True)\n",
              "  )\n",
              ")"
            ]
          },
          "metadata": {},
          "execution_count": 22
        }
      ],
      "source": [
        "def accuracy(outputs, labels):\n",
        "    _, preds = torch.max(outputs, dim=1)\n",
        "    return torch.tensor(torch.sum(preds == labels).item() / len(preds))\n",
        "\n",
        "class ImageClassificationBase(nn.Module):\n",
        "    def training_step(self, batch):\n",
        "        images, labels = batch\n",
        "        out = self(images)                  # Generate predictions\n",
        "        loss = F.cross_entropy(out, labels) # Calculate loss\n",
        "        return loss\n",
        "\n",
        "    def validation_step(self, batch):\n",
        "        images, labels = batch\n",
        "        out = self(images)                    # Generate predictions\n",
        "        loss = F.cross_entropy(out, labels)   # Calculate loss\n",
        "        acc = accuracy(out, labels)           # Calculate accuracy\n",
        "        return {'val_loss': loss.detach(), 'val_acc': acc}\n",
        "\n",
        "    def validation_epoch_end(self, outputs):\n",
        "        batch_losses = [x['val_loss'] for x in outputs]\n",
        "        epoch_loss = torch.stack(batch_losses).mean()   # Combine losses\n",
        "        batch_accs = [x['val_acc'] for x in outputs]\n",
        "        epoch_acc = torch.stack(batch_accs).mean()      # Combine accuracies\n",
        "        return {'val_loss': epoch_loss.item(), 'val_acc': epoch_acc.item()}\n",
        "\n",
        "    def epoch_end(self, epoch, result):\n",
        "        print(\"Epoch [{}], last_lr: {:.5f}, train_loss: {:.4f}, val_loss: {:.4f}, val_acc: {:.4f}\".format(\n",
        "            epoch, result['lrs'][-1], result['train_loss'], result['val_loss'], result['val_acc']))\n",
        "\n",
        "def conv_block(in_channels, out_channels, pool=False):\n",
        "    layers = [nn.Conv2d(in_channels, out_channels, kernel_size=3, padding=1),\n",
        "              nn.BatchNorm2d(out_channels),\n",
        "              nn.ReLU(inplace=True)]\n",
        "    if pool: layers.append(nn.MaxPool2d(2))\n",
        "    return nn.Sequential(*layers)\n",
        "\n",
        "class ResNet10(ImageClassificationBase):\n",
        "    def __init__(self, in_channels, num_classes):\n",
        "        super().__init__()\n",
        "\n",
        "        self.conv1 = conv_block(in_channels, 64)\n",
        "        self.conv2 = conv_block(64, 128, pool=True)\n",
        "        self.res1 = nn.Sequential(conv_block(128, 128), conv_block(128, 128))\n",
        "\n",
        "        self.conv3 = conv_block(128, 256, pool=True)\n",
        "        self.conv4 = conv_block(256, 512, pool=True)\n",
        "        self.res2 = nn.Sequential(conv_block(512, 512), conv_block(512, 512))\n",
        "        self.conv5 = conv_block(512, 1028, pool=True)\n",
        "        self.res3 = nn.Sequential(conv_block(1028, 1028), conv_block(1028, 1028))\n",
        "\n",
        "        self.classifier = nn.Sequential(nn.MaxPool2d(2), # 1028 x 1 x 1\n",
        "                                        nn.Flatten(), # 1028\n",
        "                                        nn.Linear(1028, num_classes)) # 1028 -> 100\n",
        "\n",
        "    def forward(self, xb):\n",
        "        out = self.conv1(xb)\n",
        "        out = self.conv2(out)\n",
        "        out = self.res1(out) + out\n",
        "        out = self.conv3(out)\n",
        "        out = self.conv4(out)\n",
        "        out = self.res2(out) + out\n",
        "        out = self.conv5(out)\n",
        "        out = self.res3(out) + out\n",
        "        out = self.classifier(out)\n",
        "        return out\n",
        "\n",
        "model = to_device(ResNet10(3, 100), device)\n",
        "model"
      ]
    },
    {
      "cell_type": "markdown",
      "id": "03b6be28",
      "metadata": {
        "papermill": {
          "duration": 0.023609,
          "end_time": "2021-11-08T05:37:15.485068",
          "exception": false,
          "start_time": "2021-11-08T05:37:15.461459",
          "status": "completed"
        },
        "tags": [],
        "id": "03b6be28"
      },
      "source": [
        "# Training"
      ]
    },
    {
      "cell_type": "code",
      "execution_count": null,
      "id": "4d0b9aca",
      "metadata": {
        "execution": {
          "iopub.execute_input": "2021-11-08T05:37:15.539514Z",
          "iopub.status.busy": "2021-11-08T05:37:15.538730Z",
          "iopub.status.idle": "2021-11-08T05:37:15.541153Z",
          "shell.execute_reply": "2021-11-08T05:37:15.540696Z",
          "shell.execute_reply.started": "2021-11-07T06:38:01.993486Z"
        },
        "papermill": {
          "duration": 0.034183,
          "end_time": "2021-11-08T05:37:15.541264",
          "exception": false,
          "start_time": "2021-11-08T05:37:15.507081",
          "status": "completed"
        },
        "tags": [],
        "id": "4d0b9aca"
      },
      "outputs": [],
      "source": [
        "@torch.no_grad()\n",
        "def evaluate(model, test_loader):\n",
        "    model.eval()\n",
        "    outputs = [model.validation_step(batch) for batch in test_loader]\n",
        "    return model.validation_epoch_end(outputs)\n",
        "\n",
        "def get_lr(optimizer):\n",
        "    for param_group in optimizer.param_groups:\n",
        "        return param_group['lr']\n",
        "\n",
        "def fit_one_cycle(epochs, max_lr, model, train_loader, test_loader,\n",
        "                  weight_decay=0, grad_clip=None, opt_func=torch.optim.SGD):\n",
        "    torch.cuda.empty_cache()\n",
        "    history = []\n",
        "\n",
        "    # Set up cutom optimizer with weight decay\n",
        "    optimizer = opt_func(model.parameters(), max_lr, weight_decay=weight_decay)\n",
        "    # Set up one-cycle learning rate scheduler\n",
        "    sched = torch.optim.lr_scheduler.OneCycleLR(optimizer, max_lr, epochs=epochs,\n",
        "                                                steps_per_epoch=len(train_loader))\n",
        "\n",
        "    for epoch in range(epochs):\n",
        "        # Training Phase\n",
        "        model.train()\n",
        "        train_losses = []\n",
        "        lrs = []\n",
        "        for batch in train_loader:\n",
        "            loss = model.training_step(batch)\n",
        "            train_losses.append(loss)\n",
        "            loss.backward()\n",
        "\n",
        "            # Gradient clipping\n",
        "            if grad_clip:\n",
        "                nn.utils.clip_grad_value_(model.parameters(), grad_clip)\n",
        "\n",
        "            optimizer.step()\n",
        "            optimizer.zero_grad()\n",
        "\n",
        "            # Record & update learning rate\n",
        "            lrs.append(get_lr(optimizer))\n",
        "            sched.step()\n",
        "\n",
        "        # Validation phase\n",
        "        result = evaluate(model, test_loader)\n",
        "        result['train_loss'] = torch.stack(train_losses).mean().item()\n",
        "        result['lrs'] = lrs\n",
        "        model.epoch_end(epoch, result)\n",
        "        history.append(result)\n",
        "    return history"
      ]
    },
    {
      "cell_type": "code",
      "execution_count": null,
      "id": "44715cb8",
      "metadata": {
        "execution": {
          "iopub.execute_input": "2021-11-08T05:37:15.585756Z",
          "iopub.status.busy": "2021-11-08T05:37:15.584983Z",
          "iopub.status.idle": "2021-11-08T05:37:23.415131Z",
          "shell.execute_reply": "2021-11-08T05:37:23.414649Z",
          "shell.execute_reply.started": "2021-11-07T06:38:02.007761Z"
        },
        "papermill": {
          "duration": 7.853173,
          "end_time": "2021-11-08T05:37:23.415280",
          "exception": false,
          "start_time": "2021-11-08T05:37:15.562107",
          "status": "completed"
        },
        "tags": [],
        "colab": {
          "base_uri": "https://localhost:8080/"
        },
        "id": "44715cb8",
        "outputId": "d24a95ad-1d51-4d83-ac38-f2f0bb6e2e6d"
      },
      "outputs": [
        {
          "output_type": "execute_result",
          "data": {
            "text/plain": [
              "[{'val_loss': 4.605650424957275, 'val_acc': 0.010400000028312206}]"
            ]
          },
          "metadata": {},
          "execution_count": 24
        }
      ],
      "source": [
        "\n",
        "# Initial evaluation\n",
        "history = [evaluate(model, testloader)]\n",
        "history\n"
      ]
    },
    {
      "cell_type": "code",
      "source": [
        "current_time=time.time()\n",
        "history += fit_one_cycle(int(epochs), max_lr/100, model, trainloader, testloader,\n",
        "                             grad_clip=grad_clip,\n",
        "                             weight_decay=weight_decay,\n",
        "                             opt_func=opt_func)\n",
        "# Print training time\n",
        "print('Training time: {:.2f} s'.format(time.time() - current_time))"
      ],
      "metadata": {
        "id": "9_ieTltJ4pEJ"
      },
      "id": "9_ieTltJ4pEJ",
      "execution_count": null,
      "outputs": []
    },
    {
      "cell_type": "markdown",
      "id": "6dc4c902",
      "metadata": {
        "papermill": {
          "duration": 0.051367,
          "end_time": "2021-11-08T06:31:08.677385",
          "exception": false,
          "start_time": "2021-11-08T06:31:08.626018",
          "status": "completed"
        },
        "tags": [],
        "id": "6dc4c902"
      },
      "source": [
        "# Prediction"
      ]
    },
    {
      "cell_type": "code",
      "execution_count": null,
      "id": "309f11ae",
      "metadata": {
        "execution": {
          "iopub.execute_input": "2021-11-08T06:31:08.786383Z",
          "iopub.status.busy": "2021-11-08T06:31:08.784820Z",
          "iopub.status.idle": "2021-11-08T06:31:11.250507Z",
          "shell.execute_reply": "2021-11-08T06:31:11.249907Z",
          "shell.execute_reply.started": "2021-11-07T07:32:43.011328Z"
        },
        "papermill": {
          "duration": 2.522105,
          "end_time": "2021-11-08T06:31:11.250708",
          "exception": false,
          "start_time": "2021-11-08T06:31:08.728603",
          "status": "completed"
        },
        "tags": [],
        "id": "309f11ae"
      },
      "outputs": [],
      "source": [
        "# Collect training time and result\n",
        "current_time = time.time()\n",
        "result = evaluate(model, testloader)\n",
        "result\n",
        "print('Training time: {:.2f} s'.format(time.time() - current_time))"
      ]
    },
    {
      "cell_type": "code",
      "execution_count": null,
      "id": "944ebb57",
      "metadata": {
        "execution": {
          "iopub.execute_input": "2021-11-08T06:31:11.360870Z",
          "iopub.status.busy": "2021-11-08T06:31:11.360362Z",
          "iopub.status.idle": "2021-11-08T06:31:11.653794Z",
          "shell.execute_reply": "2021-11-08T06:31:11.653216Z",
          "shell.execute_reply.started": "2021-11-07T07:32:45.290110Z"
        },
        "papermill": {
          "duration": 0.350336,
          "end_time": "2021-11-08T06:31:11.653984",
          "exception": false,
          "start_time": "2021-11-08T06:31:11.303648",
          "status": "completed"
        },
        "tags": [],
        "id": "944ebb57"
      },
      "outputs": [],
      "source": [
        "# Saving the model to h5 file\n",
        "torch.save(model.state_dict(), 'pretrained_model.h5')"
      ]
    },
    {
      "cell_type": "code",
      "execution_count": null,
      "id": "25c307e4",
      "metadata": {
        "execution": {
          "iopub.execute_input": "2021-11-08T06:31:11.788006Z",
          "iopub.status.busy": "2021-11-08T06:31:11.786432Z",
          "iopub.status.idle": "2021-11-08T06:31:14.524650Z",
          "shell.execute_reply": "2021-11-08T06:31:14.524027Z",
          "shell.execute_reply.started": "2021-11-07T07:32:45.582093Z"
        },
        "papermill": {
          "duration": 2.809654,
          "end_time": "2021-11-08T06:31:14.524792",
          "exception": false,
          "start_time": "2021-11-08T06:31:11.715138",
          "status": "completed"
        },
        "tags": [],
        "id": "25c307e4"
      },
      "outputs": [],
      "source": [
        "# Generate testing accuracy, predicted label, confusion matrix, and table for classification report\n",
        "def test_label_predictions(model, device, test_loader):\n",
        "    model.eval()\n",
        "    actuals = []\n",
        "    predictions = []\n",
        "    with torch.no_grad():\n",
        "        for data, target in test_loader:\n",
        "            data, target = data.to(device), target.to(device)\n",
        "            output = model(data)\n",
        "            prediction = output.argmax(dim=1, keepdim=True)\n",
        "            actuals.extend(target.view_as(prediction))\n",
        "            predictions.extend(prediction)\n",
        "    return [i.item() for i in actuals], [i.item() for i in predictions]\n",
        "\n",
        "y_test, y_pred = test_label_predictions(model, device, testloader)\n",
        "\n",
        "# Generate testing accuracy, predicted label, confusion matrix, and table for classification report\n",
        "from sklearn.metrics import *\n",
        "cm=confusion_matrix(y_test, y_pred)\n",
        "cr=classification_report(y_test, y_pred)\n",
        "Prec=precision_score(y_test, y_pred, average='weighted')\n",
        "fs=f1_score(y_test, y_pred, average='weighted')\n",
        "rs=recall_score(y_test, y_pred, average='weighted')\n",
        "accuracy=accuracy_score(y_test, y_pred)\n",
        "print('Confusion matrix:')\n",
        "print(cm)\n",
        "print(cr)\n",
        "print('Precision: %f' % fs)\n",
        "print('F1 score: %f' % fs)\n",
        "print('Recall: %f' % rs)\n",
        "print('Model Accuracy: %f' % accuracy)"
      ]
    },
    {
      "cell_type": "code",
      "execution_count": null,
      "id": "1feda919",
      "metadata": {
        "execution": {
          "iopub.execute_input": "2021-11-08T06:31:14.650887Z",
          "iopub.status.busy": "2021-11-08T06:31:14.649991Z",
          "iopub.status.idle": "2021-11-08T06:31:14.708521Z",
          "shell.execute_reply": "2021-11-08T06:31:14.707550Z",
          "shell.execute_reply.started": "2021-11-07T07:32:47.997511Z"
        },
        "papermill": {
          "duration": 0.124252,
          "end_time": "2021-11-08T06:31:14.708635",
          "exception": false,
          "start_time": "2021-11-08T06:31:14.584383",
          "status": "completed"
        },
        "tags": [],
        "id": "1feda919"
      },
      "outputs": [],
      "source": [
        "# Save classificationreport into csv\n",
        "report = classification_report(y_test, y_pred, output_dict = True)\n",
        "df=pd.DataFrame(report).transpose()\n",
        "df.to_csv('classificationreport.csv',index=False)"
      ]
    },
    {
      "cell_type": "code",
      "execution_count": null,
      "id": "6259703a",
      "metadata": {
        "execution": {
          "iopub.execute_input": "2021-11-08T06:31:14.832092Z",
          "iopub.status.busy": "2021-11-08T06:31:14.831514Z",
          "iopub.status.idle": "2021-11-08T06:31:14.835326Z",
          "shell.execute_reply": "2021-11-08T06:31:14.834896Z",
          "shell.execute_reply.started": "2021-11-07T07:32:48.058456Z"
        },
        "papermill": {
          "duration": 0.067753,
          "end_time": "2021-11-08T06:31:14.835435",
          "exception": false,
          "start_time": "2021-11-08T06:31:14.767682",
          "status": "completed"
        },
        "tags": [],
        "id": "6259703a"
      },
      "outputs": [],
      "source": [
        "# Plot classification report and save to pdf function\n",
        "def plot_classification(precision, recall, f1_score):\n",
        "    plt.rcParams['font.size'] = 12\n",
        "    plt.rc('axes', linewidth=1.75)\n",
        "    marker_size = 8\n",
        "    figsize = 6\n",
        "    plt.figure(figsize=(1.4 * figsize, figsize))\n",
        "    plt.subplot(3, 1, 1)\n",
        "    plt.plot(precision, 'o', markersize=marker_size)\n",
        "    # plt.legend(loc=0)\n",
        "    # plt.yticks(np.arange(0.5, 1.01, 0.1))\n",
        "    plt.title('ResNet10 Classification Precision')\n",
        "    plt.ylabel('Precision', fontsize=14)\n",
        "    plt.xticks([])\n",
        "    plt.subplot(3, 1, 2)\n",
        "    plt.plot(recall, 'o', markersize=marker_size)\n",
        "    # plt.yticks(np.arange(0.5, 1.01, 0.1))\n",
        "    plt.title('ResNet10 Classification Recall')\n",
        "    plt.ylabel('Recall', fontsize=14)\n",
        "    plt.xticks([])\n",
        "    plt.subplot(3, 1, 3)\n",
        "    plt.plot(f1_score, 'o', markersize=marker_size)\n",
        "    # plt.yticks(np.arange(0.5, 1.01, 0.1))\n",
        "    plt.title('ResNet10 Classification F1 Score')\n",
        "    plt.ylabel('F1-score', fontsize=14)\n",
        "    plt.xlabel('Class', fontsize=14)\n",
        "    plt.subplots_adjust(hspace=0.001)\n",
        "    plt.tight_layout()\n",
        "    plt.savefig(\"classification.pdf\")"
      ]
    },
    {
      "cell_type": "code",
      "execution_count": null,
      "id": "20d3c963",
      "metadata": {
        "execution": {
          "iopub.execute_input": "2021-11-08T06:31:14.945162Z",
          "iopub.status.busy": "2021-11-08T06:31:14.943634Z",
          "iopub.status.idle": "2021-11-08T06:31:14.945801Z",
          "shell.execute_reply": "2021-11-08T06:31:14.946237Z",
          "shell.execute_reply.started": "2021-11-07T07:32:48.069194Z"
        },
        "papermill": {
          "duration": 0.058828,
          "end_time": "2021-11-08T06:31:14.946360",
          "exception": false,
          "start_time": "2021-11-08T06:31:14.887532",
          "status": "completed"
        },
        "tags": [],
        "id": "20d3c963"
      },
      "outputs": [],
      "source": [
        "# Plot classification report and save to pdf\n",
        "def plot_confusion_matrix(cm):\n",
        "    plt.figure()\n",
        "    plt.imshow(cm, interpolation='nearest', cmap=plt.get_cmap('Blues'))\n",
        "    plt.colorbar()\n",
        "    plt.ylabel('True label', fontsize=14)\n",
        "    plt.xlabel('Predicted label', fontsize=14)\n",
        "    plt.tight_layout()\n",
        "    plt.savefig(\"confusion_matrix.pdf\")\n",
        "    plt.show()"
      ]
    },
    {
      "cell_type": "code",
      "execution_count": null,
      "id": "8455dc77",
      "metadata": {
        "execution": {
          "iopub.execute_input": "2021-11-08T06:31:15.055232Z",
          "iopub.status.busy": "2021-11-08T06:31:15.054015Z",
          "iopub.status.idle": "2021-11-08T06:31:36.417383Z",
          "shell.execute_reply": "2021-11-08T06:31:36.416555Z",
          "shell.execute_reply.started": "2021-11-07T07:32:48.080678Z"
        },
        "papermill": {
          "duration": 21.419507,
          "end_time": "2021-11-08T06:31:36.417519",
          "exception": false,
          "start_time": "2021-11-08T06:31:14.998012",
          "status": "completed"
        },
        "tags": [],
        "id": "8455dc77"
      },
      "outputs": [],
      "source": [
        "# Obtain training accuracy\n",
        "y_train, y_pred2 = test_label_predictions(model, device, trainloader)\n",
        "train_accuracy=accuracy_score(y_train, y_pred2)\n",
        "print('Train accuracy: %f' % train_accuracy)"
      ]
    },
    {
      "cell_type": "code",
      "execution_count": null,
      "id": "69255231",
      "metadata": {
        "execution": {
          "iopub.execute_input": "2021-11-08T06:31:36.529621Z",
          "iopub.status.busy": "2021-11-08T06:31:36.528926Z",
          "iopub.status.idle": "2021-11-08T06:31:37.361196Z",
          "shell.execute_reply": "2021-11-08T06:31:37.360688Z",
          "shell.execute_reply.started": "2021-11-07T07:33:10.041967Z"
        },
        "papermill": {
          "duration": 0.891514,
          "end_time": "2021-11-08T06:31:37.361324",
          "exception": false,
          "start_time": "2021-11-08T06:31:36.469810",
          "status": "completed"
        },
        "tags": [],
        "id": "69255231"
      },
      "outputs": [],
      "source": [
        "# Plot and save confusion matrix\n",
        "precision, recall, f1,_= precision_recall_fscore_support(y_test, y_pred)\n",
        "print(recall)\n",
        "plot_classification(precision, recall, f1)\n",
        "\n",
        "# Plot confusion matrix\n",
        "plot_confusion_matrix(cm)"
      ]
    }
  ],
  "metadata": {
    "kernelspec": {
      "display_name": "Python 3",
      "name": "python3"
    },
    "language_info": {
      "codemirror_mode": {
        "name": "ipython",
        "version": 3
      },
      "file_extension": ".py",
      "mimetype": "text/x-python",
      "name": "python",
      "nbconvert_exporter": "python",
      "pygments_lexer": "ipython3",
      "version": "3.7.10"
    },
    "papermill": {
      "default_parameters": {},
      "duration": 3295.761284,
      "end_time": "2021-11-08T06:31:38.933032",
      "environment_variables": {},
      "exception": null,
      "input_path": "__notebook__.ipynb",
      "output_path": "__notebook__.ipynb",
      "parameters": {},
      "start_time": "2021-11-08T05:36:43.171748",
      "version": "2.3.3"
    },
    "colab": {
      "provenance": [],
      "gpuType": "T4",
      "include_colab_link": true
    },
    "accelerator": "GPU"
  },
  "nbformat": 4,
  "nbformat_minor": 5
}